{
 "cells": [
  {
   "cell_type": "code",
   "execution_count": 48,
   "metadata": {},
   "outputs": [],
   "source": [
    "import pandas as pd\n",
    "import numpy as np\n",
    "from sklearn.model_selection import train_test_split\n",
    "from sklearn.metrics import make_scorer, cohen_kappa_score, accuracy_score, classification_report, roc_auc_score\n",
    "from sklearn.tree import DecisionTreeClassifier\n",
    "from sklearn.preprocessing import StandardScaler\n"
   ]
  },
  {
   "cell_type": "code",
   "execution_count": 49,
   "metadata": {},
   "outputs": [],
   "source": [
    "data = pd.read_csv('FIFA_World_Cup_Tidy.csv')"
   ]
  },
  {
   "cell_type": "code",
   "execution_count": 50,
   "metadata": {},
   "outputs": [],
   "source": [
    "data_train = data[data['season'] != 2022]  # Exclude 2022 data"
   ]
  },
  {
   "cell_type": "code",
   "execution_count": 51,
   "metadata": {},
   "outputs": [],
   "source": [
    "data_continent = pd.get_dummies(data, columns = ['continent'])"
   ]
  },
  {
   "cell_type": "code",
   "execution_count": 52,
   "metadata": {},
   "outputs": [],
   "source": [
    "data_predict = data_continent[['players_used', 'age', 'matches_played', 'goals', 'yellow_cards', 'red_cards', 'world_cup_winner', 'continent_Africa', 'continent_Americas', 'continent_Asia', 'continent_Europe', 'continent_Oceania']]"
   ]
  },
  {
   "cell_type": "code",
   "execution_count": 53,
   "metadata": {},
   "outputs": [],
   "source": [
    "X = data_predict.drop(columns=['world_cup_winner'])\n",
    "y = data_predict[['world_cup_winner']]\n",
    "scaler = StandardScaler()\n",
    "X = scaler.fit_transform(X)\n",
    "X_train, X_valid, y_train, y_valid = train_test_split(X, y)"
   ]
  },
  {
   "cell_type": "code",
   "execution_count": 54,
   "metadata": {},
   "outputs": [],
   "source": [
    "y = y.values.ravel()\n",
    "y_train = y_train.values.ravel()\n",
    "y_valid = y_valid.values.ravel()"
   ]
  },
  {
   "cell_type": "code",
   "execution_count": 55,
   "metadata": {},
   "outputs": [
    {
     "data": {
      "text/html": [
       "<style>#sk-container-id-4 {color: black;background-color: white;}#sk-container-id-4 pre{padding: 0;}#sk-container-id-4 div.sk-toggleable {background-color: white;}#sk-container-id-4 label.sk-toggleable__label {cursor: pointer;display: block;width: 100%;margin-bottom: 0;padding: 0.3em;box-sizing: border-box;text-align: center;}#sk-container-id-4 label.sk-toggleable__label-arrow:before {content: \"▸\";float: left;margin-right: 0.25em;color: #696969;}#sk-container-id-4 label.sk-toggleable__label-arrow:hover:before {color: black;}#sk-container-id-4 div.sk-estimator:hover label.sk-toggleable__label-arrow:before {color: black;}#sk-container-id-4 div.sk-toggleable__content {max-height: 0;max-width: 0;overflow: hidden;text-align: left;background-color: #f0f8ff;}#sk-container-id-4 div.sk-toggleable__content pre {margin: 0.2em;color: black;border-radius: 0.25em;background-color: #f0f8ff;}#sk-container-id-4 input.sk-toggleable__control:checked~div.sk-toggleable__content {max-height: 200px;max-width: 100%;overflow: auto;}#sk-container-id-4 input.sk-toggleable__control:checked~label.sk-toggleable__label-arrow:before {content: \"▾\";}#sk-container-id-4 div.sk-estimator input.sk-toggleable__control:checked~label.sk-toggleable__label {background-color: #d4ebff;}#sk-container-id-4 div.sk-label input.sk-toggleable__control:checked~label.sk-toggleable__label {background-color: #d4ebff;}#sk-container-id-4 input.sk-hidden--visually {border: 0;clip: rect(1px 1px 1px 1px);clip: rect(1px, 1px, 1px, 1px);height: 1px;margin: -1px;overflow: hidden;padding: 0;position: absolute;width: 1px;}#sk-container-id-4 div.sk-estimator {font-family: monospace;background-color: #f0f8ff;border: 1px dotted black;border-radius: 0.25em;box-sizing: border-box;margin-bottom: 0.5em;}#sk-container-id-4 div.sk-estimator:hover {background-color: #d4ebff;}#sk-container-id-4 div.sk-parallel-item::after {content: \"\";width: 100%;border-bottom: 1px solid gray;flex-grow: 1;}#sk-container-id-4 div.sk-label:hover label.sk-toggleable__label {background-color: #d4ebff;}#sk-container-id-4 div.sk-serial::before {content: \"\";position: absolute;border-left: 1px solid gray;box-sizing: border-box;top: 0;bottom: 0;left: 50%;z-index: 0;}#sk-container-id-4 div.sk-serial {display: flex;flex-direction: column;align-items: center;background-color: white;padding-right: 0.2em;padding-left: 0.2em;position: relative;}#sk-container-id-4 div.sk-item {position: relative;z-index: 1;}#sk-container-id-4 div.sk-parallel {display: flex;align-items: stretch;justify-content: center;background-color: white;position: relative;}#sk-container-id-4 div.sk-item::before, #sk-container-id-4 div.sk-parallel-item::before {content: \"\";position: absolute;border-left: 1px solid gray;box-sizing: border-box;top: 0;bottom: 0;left: 50%;z-index: -1;}#sk-container-id-4 div.sk-parallel-item {display: flex;flex-direction: column;z-index: 1;position: relative;background-color: white;}#sk-container-id-4 div.sk-parallel-item:first-child::after {align-self: flex-end;width: 50%;}#sk-container-id-4 div.sk-parallel-item:last-child::after {align-self: flex-start;width: 50%;}#sk-container-id-4 div.sk-parallel-item:only-child::after {width: 0;}#sk-container-id-4 div.sk-dashed-wrapped {border: 1px dashed gray;margin: 0 0.4em 0.5em 0.4em;box-sizing: border-box;padding-bottom: 0.4em;background-color: white;}#sk-container-id-4 div.sk-label label {font-family: monospace;font-weight: bold;display: inline-block;line-height: 1.2em;}#sk-container-id-4 div.sk-label-container {text-align: center;}#sk-container-id-4 div.sk-container {/* jupyter's `normalize.less` sets `[hidden] { display: none; }` but bootstrap.min.css set `[hidden] { display: none !important; }` so we also need the `!important` here to be able to override the default hidden behavior on the sphinx rendered scikit-learn.org. See: https://github.com/scikit-learn/scikit-learn/issues/21755 */display: inline-block !important;position: relative;}#sk-container-id-4 div.sk-text-repr-fallback {display: none;}</style><div id=\"sk-container-id-4\" class=\"sk-top-container\"><div class=\"sk-text-repr-fallback\"><pre>DecisionTreeClassifier(class_weight=&#x27;balanced&#x27;, max_depth=5, max_features=5,\n",
       "                       max_leaf_nodes=5, random_state=42)</pre><b>In a Jupyter environment, please rerun this cell to show the HTML representation or trust the notebook. <br />On GitHub, the HTML representation is unable to render, please try loading this page with nbviewer.org.</b></div><div class=\"sk-container\" hidden><div class=\"sk-item\"><div class=\"sk-estimator sk-toggleable\"><input class=\"sk-toggleable__control sk-hidden--visually\" id=\"sk-estimator-id-4\" type=\"checkbox\" checked><label for=\"sk-estimator-id-4\" class=\"sk-toggleable__label sk-toggleable__label-arrow\">DecisionTreeClassifier</label><div class=\"sk-toggleable__content\"><pre>DecisionTreeClassifier(class_weight=&#x27;balanced&#x27;, max_depth=5, max_features=5,\n",
       "                       max_leaf_nodes=5, random_state=42)</pre></div></div></div></div></div>"
      ],
      "text/plain": [
       "DecisionTreeClassifier(class_weight='balanced', max_depth=5, max_features=5,\n",
       "                       max_leaf_nodes=5, random_state=42)"
      ]
     },
     "execution_count": 55,
     "metadata": {},
     "output_type": "execute_result"
    }
   ],
   "source": [
    "model_dct = model_dct = DecisionTreeClassifier(max_depth=5, max_features=5, max_leaf_nodes=5, random_state=42, class_weight='balanced')\n",
    "model_dct.fit(X_train, y_train)"
   ]
  },
  {
   "cell_type": "code",
   "execution_count": 56,
   "metadata": {},
   "outputs": [],
   "source": [
    "y_pred = model_dct.predict(X_valid)\n",
    "y_prob = model_dct.predict_proba(X_valid)[:, 1]"
   ]
  },
  {
   "cell_type": "code",
   "execution_count": 57,
   "metadata": {},
   "outputs": [
    {
     "name": "stdout",
     "output_type": "stream",
     "text": [
      "Classification Report:\n",
      "               precision    recall  f1-score   support\n",
      "\n",
      "           0       1.00      0.81      0.90       112\n",
      "           1       0.16      1.00      0.28         4\n",
      "\n",
      "    accuracy                           0.82       116\n",
      "   macro avg       0.58      0.91      0.59       116\n",
      "weighted avg       0.97      0.82      0.88       116\n",
      " \n",
      "\n",
      "Model prediction score: 0.8189655172413793\n",
      "Accuracy score: 0.8189655172413793\n",
      "Baseline accuracy score: 0.9525862068965517\n",
      "Cohen’s Kappa score 0.23008849557522115\n",
      "ROC-AUC score: 0.9375\n"
     ]
    }
   ],
   "source": [
    "print(\"Classification Report:\\n\", classification_report(y_valid, y_pred), \"\\n\")\n",
    "print(\"Model prediction score:\", model_dct.score(X_valid, y_valid))\n",
    "print(\"Accuracy score:\", accuracy_score(y_valid, y_pred))\n",
    "print(\"Baseline accuracy score:\", len(y[y == 0]) / len(y))\n",
    "print(\"Cohen’s Kappa score\", cohen_kappa_score(y_valid, y_pred))\n",
    "print(\"ROC-AUC score:\", roc_auc_score(y_valid, y_prob))"
   ]
  },
  {
   "cell_type": "code",
   "execution_count": 58,
   "metadata": {},
   "outputs": [
    {
     "name": "stderr",
     "output_type": "stream",
     "text": [
      "C:\\Users\\Steven Ss\\AppData\\Local\\Temp\\ipykernel_14676\\4011250714.py:1: SettingWithCopyWarning: \n",
      "A value is trying to be set on a copy of a slice from a DataFrame.\n",
      "Try using .loc[row_indexer,col_indexer] = value instead\n",
      "\n",
      "See the caveats in the documentation: https://pandas.pydata.org/pandas-docs/stable/user_guide/indexing.html#returning-a-view-versus-a-copy\n",
      "  data_predict['win_probability'] = model_dct.predict_proba(X)[:, 1]\n"
     ]
    }
   ],
   "source": [
    "data_predict['win_probability'] = model_dct.predict_proba(X)[:, 1]"
   ]
  },
  {
   "cell_type": "markdown",
   "metadata": {},
   "source": [
    "## Simulation"
   ]
  },
  {
   "cell_type": "code",
   "execution_count": 59,
   "metadata": {},
   "outputs": [
    {
     "name": "stdout",
     "output_type": "stream",
     "text": [
      "Predicted Winner: Argentina\n",
      "2022 World Cup Predictions:\n",
      "              team  win_probability\n",
      "433      Argentina         0.898876\n",
      "443        England         0.898876\n",
      "444         France         0.898876\n",
      "454       Portugal         0.898876\n",
      "451        Morocco         0.859375\n",
      "452    Netherlands         0.567010\n",
      "450         Mexico         0.000000\n",
      "462  United States         0.000000\n",
      "461        Tunisia         0.000000\n",
      "460    Switzerland         0.000000\n"
     ]
    },
    {
     "name": "stderr",
     "output_type": "stream",
     "text": [
      "C:\\Users\\Steven Ss\\AppData\\Local\\Temp\\ipykernel_14676\\268512231.py:11: SettingWithCopyWarning: \n",
      "A value is trying to be set on a copy of a slice from a DataFrame.\n",
      "Try using .loc[row_indexer,col_indexer] = value instead\n",
      "\n",
      "See the caveats in the documentation: https://pandas.pydata.org/pandas-docs/stable/user_guide/indexing.html#returning-a-view-versus-a-copy\n",
      "  data_2022['win_probability'] = model_dct.predict_proba(X_2022)[:, 1]\n",
      "C:\\Users\\Steven Ss\\AppData\\Local\\Temp\\ipykernel_14676\\268512231.py:12: SettingWithCopyWarning: \n",
      "A value is trying to be set on a copy of a slice from a DataFrame.\n",
      "Try using .loc[row_indexer,col_indexer] = value instead\n",
      "\n",
      "See the caveats in the documentation: https://pandas.pydata.org/pandas-docs/stable/user_guide/indexing.html#returning-a-view-versus-a-copy\n",
      "  data_2022['predicted_winner'] = model_dct.predict(X_2022)\n"
     ]
    }
   ],
   "source": [
    "# using 2022 World Cup\n",
    "\n",
    "data_2022 = data[data['season'] == 2022]\n",
    "\n",
    "data_2022_continent = pd.get_dummies(data_2022, columns=['continent'])\n",
    "data_2022_predict = data_2022_continent[['players_used', 'age', 'matches_played', 'goals', 'yellow_cards', 'red_cards', \n",
    "                                         'continent_Africa', 'continent_Americas', 'continent_Asia', 'continent_Europe', 'continent_Oceania']]\n",
    "\n",
    "X_2022 = scaler.transform(data_2022_predict)\n",
    "\n",
    "data_2022['win_probability'] = model_dct.predict_proba(X_2022)[:, 1]\n",
    "data_2022['predicted_winner'] = model_dct.predict(X_2022)\n",
    "\n",
    "predicted_winner = data_2022.loc[data_2022['win_probability'].idxmax(), 'team']\n",
    "\n",
    "data_2022_predictions = data_2022[['team', 'win_probability']].sort_values(by='win_probability', ascending=False)\n",
    "\n",
    "print(\"Predicted Winner:\", predicted_winner)\n",
    "print(\"2022 World Cup Predictions:\")\n",
    "print(data_2022_predictions.head(10))"
   ]
  },
  {
   "cell_type": "markdown",
   "metadata": {},
   "source": [
    "Countries with highest probability to win the 2026 FIFA World Cup given historical data"
   ]
  },
  {
   "cell_type": "code",
   "execution_count": 60,
   "metadata": {},
   "outputs": [
    {
     "name": "stdout",
     "output_type": "stream",
     "text": [
      "           team  win_probability\n",
      "27      Germany         0.567676\n",
      "69      Türkiye         0.567010\n",
      "8        Brazil         0.524962\n",
      "45  Netherlands         0.460127\n",
      "26       France         0.337079\n",
      "16      Croatia         0.299625\n",
      "65       Sweden         0.299625\n",
      "32      Hungary         0.299625\n",
      "2     Argentina         0.262751\n",
      "37        Italy         0.260557\n"
     ]
    },
    {
     "name": "stderr",
     "output_type": "stream",
     "text": [
      "C:\\Users\\Steven Ss\\AppData\\Local\\Temp\\ipykernel_14676\\1232214890.py:1: SettingWithCopyWarning: \n",
      "A value is trying to be set on a copy of a slice from a DataFrame.\n",
      "Try using .loc[row_indexer,col_indexer] = value instead\n",
      "\n",
      "See the caveats in the documentation: https://pandas.pydata.org/pandas-docs/stable/user_guide/indexing.html#returning-a-view-versus-a-copy\n",
      "  data_predict['team'] = data['team']\n",
      "C:\\Users\\Steven Ss\\AppData\\Local\\Temp\\ipykernel_14676\\1232214890.py:2: SettingWithCopyWarning: \n",
      "A value is trying to be set on a copy of a slice from a DataFrame.\n",
      "Try using .loc[row_indexer,col_indexer] = value instead\n",
      "\n",
      "See the caveats in the documentation: https://pandas.pydata.org/pandas-docs/stable/user_guide/indexing.html#returning-a-view-versus-a-copy\n",
      "  data_predict['season'] = data['season']\n"
     ]
    }
   ],
   "source": [
    "data_predict['team'] = data['team'] \n",
    "data_predict['season'] = data['season']\n",
    "\n",
    "# Group by 'team' and calculate the mean probability\n",
    "grouped_predictions = data_predict.groupby('team', as_index=False)['win_probability'].mean()\n",
    "\n",
    "# Sort the grouped data by win probability in descending order\n",
    "grouped_predictions = grouped_predictions.sort_values(by='win_probability', ascending=False)\n",
    "\n",
    "# Display the top 10 teams\n",
    "print(grouped_predictions.head(10))"
   ]
  },
  {
   "cell_type": "code",
   "execution_count": null,
   "metadata": {},
   "outputs": [],
   "source": []
  }
 ],
 "metadata": {
  "kernelspec": {
   "display_name": "base",
   "language": "python",
   "name": "python3"
  },
  "language_info": {
   "codemirror_mode": {
    "name": "ipython",
    "version": 3
   },
   "file_extension": ".py",
   "mimetype": "text/x-python",
   "name": "python",
   "nbconvert_exporter": "python",
   "pygments_lexer": "ipython3",
   "version": "3.11.7"
  }
 },
 "nbformat": 4,
 "nbformat_minor": 2
}

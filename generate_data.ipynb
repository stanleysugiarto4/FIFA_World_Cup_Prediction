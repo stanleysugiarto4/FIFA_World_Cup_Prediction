{
 "cells": [
  {
   "cell_type": "code",
   "execution_count": 1,
   "metadata": {},
   "outputs": [
    {
     "data": {
      "text/html": [
       "<pre style=\"white-space:pre;overflow-x:auto;line-height:normal;font-family:Menlo,'DejaVu Sans Mono',consolas,'Courier New',monospace\"><span style=\"color: #7fbfbf; text-decoration-color: #7fbfbf\">[12/06/24 13:23:56] </span><span style=\"color: #000080; text-decoration-color: #000080\">INFO    </span> No custom team name replacements found. You can configure these in       <a href=\"file://c:\\Users\\Sydney\\AppData\\Local\\Programs\\Python\\Python312\\Lib\\site-packages\\soccerdata\\_config.py\" target=\"_blank\"><span style=\"color: #7f7f7f; text-decoration-color: #7f7f7f\">_config.py</span></a><span style=\"color: #7f7f7f; text-decoration-color: #7f7f7f\">:</span><a href=\"file://c:\\Users\\Sydney\\AppData\\Local\\Programs\\Python\\Python312\\Lib\\site-packages\\soccerdata\\_config.py#90\" target=\"_blank\"><span style=\"color: #7f7f7f; text-decoration-color: #7f7f7f\">90</span></a>\n",
       "<span style=\"color: #7fbfbf; text-decoration-color: #7fbfbf\">                    </span>         C:\\Users\\Sydney\\soccerdata\\config\\teamname_replacements.json.            <span style=\"color: #7f7f7f; text-decoration-color: #7f7f7f\">             </span>\n",
       "</pre>\n"
      ],
      "text/plain": [
       "\u001b[2;36m[12/06/24 13:23:56]\u001b[0m\u001b[2;36m \u001b[0m\u001b[34mINFO    \u001b[0m No custom team name replacements found. You can configure these in       \u001b]8;id=342886;file://c:\\Users\\Sydney\\AppData\\Local\\Programs\\Python\\Python312\\Lib\\site-packages\\soccerdata\\_config.py\u001b\\\u001b[2m_config.py\u001b[0m\u001b]8;;\u001b\\\u001b[2m:\u001b[0m\u001b]8;id=347401;file://c:\\Users\\Sydney\\AppData\\Local\\Programs\\Python\\Python312\\Lib\\site-packages\\soccerdata\\_config.py#90\u001b\\\u001b[2m90\u001b[0m\u001b]8;;\u001b\\\n",
       "\u001b[2;36m                    \u001b[0m         C:\\Users\\Sydney\\soccerdata\\config\\teamname_replacements.json.            \u001b[2m             \u001b[0m\n"
      ]
     },
     "metadata": {},
     "output_type": "display_data"
    },
    {
     "data": {
      "text/html": [
       "<pre style=\"white-space:pre;overflow-x:auto;line-height:normal;font-family:Menlo,'DejaVu Sans Mono',consolas,'Courier New',monospace\"><span style=\"color: #7fbfbf; text-decoration-color: #7fbfbf\">                    </span><span style=\"color: #000080; text-decoration-color: #000080\">INFO    </span> No custom league dict found. You can configure additional leagues in    <a href=\"file://c:\\Users\\Sydney\\AppData\\Local\\Programs\\Python\\Python312\\Lib\\site-packages\\soccerdata\\_config.py\" target=\"_blank\"><span style=\"color: #7f7f7f; text-decoration-color: #7f7f7f\">_config.py</span></a><span style=\"color: #7f7f7f; text-decoration-color: #7f7f7f\">:</span><a href=\"file://c:\\Users\\Sydney\\AppData\\Local\\Programs\\Python\\Python312\\Lib\\site-packages\\soccerdata\\_config.py#196\" target=\"_blank\"><span style=\"color: #7f7f7f; text-decoration-color: #7f7f7f\">196</span></a>\n",
       "<span style=\"color: #7fbfbf; text-decoration-color: #7fbfbf\">                    </span>         C:\\Users\\Sydney\\soccerdata\\config\\league_dict.json.                     <span style=\"color: #7f7f7f; text-decoration-color: #7f7f7f\">              </span>\n",
       "</pre>\n"
      ],
      "text/plain": [
       "\u001b[2;36m                   \u001b[0m\u001b[2;36m \u001b[0m\u001b[34mINFO    \u001b[0m No custom league dict found. You can configure additional leagues in    \u001b]8;id=724393;file://c:\\Users\\Sydney\\AppData\\Local\\Programs\\Python\\Python312\\Lib\\site-packages\\soccerdata\\_config.py\u001b\\\u001b[2m_config.py\u001b[0m\u001b]8;;\u001b\\\u001b[2m:\u001b[0m\u001b]8;id=801601;file://c:\\Users\\Sydney\\AppData\\Local\\Programs\\Python\\Python312\\Lib\\site-packages\\soccerdata\\_config.py#196\u001b\\\u001b[2m196\u001b[0m\u001b]8;;\u001b\\\n",
       "\u001b[2;36m                    \u001b[0m         C:\\Users\\Sydney\\soccerdata\\config\\league_dict.json.                     \u001b[2m              \u001b[0m\n"
      ]
     },
     "metadata": {},
     "output_type": "display_data"
    }
   ],
   "source": [
    "from soccerdata import FBref\n",
    "import pandas as pd"
   ]
  },
  {
   "cell_type": "markdown",
   "metadata": {},
   "source": [
    "Initialize the World Cup League"
   ]
  },
  {
   "cell_type": "code",
   "execution_count": 2,
   "metadata": {},
   "outputs": [
    {
     "data": {
      "text/html": [
       "<pre style=\"white-space:pre;overflow-x:auto;line-height:normal;font-family:Menlo,'DejaVu Sans Mono',consolas,'Courier New',monospace\"><span style=\"color: #7fbfbf; text-decoration-color: #7fbfbf\">                    </span><span style=\"color: #000080; text-decoration-color: #000080\">INFO    </span> Saving cached data to C:\\Users\\Sydney\\soccerdata\\data\\FBref             <a href=\"file://c:\\Users\\Sydney\\AppData\\Local\\Programs\\Python\\Python312\\Lib\\site-packages\\soccerdata\\_common.py\" target=\"_blank\"><span style=\"color: #7f7f7f; text-decoration-color: #7f7f7f\">_common.py</span></a><span style=\"color: #7f7f7f; text-decoration-color: #7f7f7f\">:</span><a href=\"file://c:\\Users\\Sydney\\AppData\\Local\\Programs\\Python\\Python312\\Lib\\site-packages\\soccerdata\\_common.py#263\" target=\"_blank\"><span style=\"color: #7f7f7f; text-decoration-color: #7f7f7f\">263</span></a>\n",
       "</pre>\n"
      ],
      "text/plain": [
       "\u001b[2;36m                   \u001b[0m\u001b[2;36m \u001b[0m\u001b[34mINFO    \u001b[0m Saving cached data to C:\\Users\\Sydney\\soccerdata\\data\\FBref             \u001b]8;id=692053;file://c:\\Users\\Sydney\\AppData\\Local\\Programs\\Python\\Python312\\Lib\\site-packages\\soccerdata\\_common.py\u001b\\\u001b[2m_common.py\u001b[0m\u001b]8;;\u001b\\\u001b[2m:\u001b[0m\u001b]8;id=206593;file://c:\\Users\\Sydney\\AppData\\Local\\Programs\\Python\\Python312\\Lib\\site-packages\\soccerdata\\_common.py#263\u001b\\\u001b[2m263\u001b[0m\u001b]8;;\u001b\\\n"
      ]
     },
     "metadata": {},
     "output_type": "display_data"
    },
    {
     "name": "stderr",
     "output_type": "stream",
     "text": [
      "c:\\Users\\Sydney\\AppData\\Local\\Programs\\Python\\Python312\\Lib\\site-packages\\soccerdata\\fbref.py:159: FutureWarning: The behavior of DataFrame concatenation with empty or all-NA entries is deprecated. In a future version, this will no longer exclude empty or all-NA columns when determining the result dtypes. To retain the old behavior, exclude the relevant entries before the concat operation.\n",
      "  pd.concat(dfs)\n",
      "c:\\Users\\Sydney\\AppData\\Local\\Programs\\Python\\Python312\\Lib\\site-packages\\soccerdata\\fbref.py:1221: UserWarning: Different columns found for [['INT-World Cup' '2018']] and [['INT-World Cup' '1930']].\n",
      "\n",
      "The following columns are missing in [['INT-World Cup' '2018']]: ('Expected', 'npxG'), ('Expected', 'npxG+xAG'), ('Expected', 'xAG'), ('Expected', 'xG'), ('Per 90 Minutes', 'npxG'), ('Per 90 Minutes', 'npxG+xAG'), ('Per 90 Minutes', 'xAG'), ('Per 90 Minutes', 'xG'), ('Per 90 Minutes', 'xG+xAG'), ('Progression', 'PrgC'), ('Progression', 'PrgP').\n",
      "\n",
      "The following columns are missing in [['INT-World Cup' '1930']]: .\n",
      "\n",
      "The columns of the dataframe with the most columns will be used.\n",
      "  warnings.warn(\n",
      "c:\\Users\\Sydney\\AppData\\Local\\Programs\\Python\\Python312\\Lib\\site-packages\\soccerdata\\fbref.py:1221: UserWarning: Different columns found for [['INT-World Cup' '2018']] and [['INT-World Cup' '1934']].\n",
      "\n",
      "The following columns are missing in [['INT-World Cup' '2018']]: ('Expected', 'npxG'), ('Expected', 'npxG+xAG'), ('Expected', 'xAG'), ('Expected', 'xG'), ('Per 90 Minutes', 'npxG'), ('Per 90 Minutes', 'npxG+xAG'), ('Per 90 Minutes', 'xAG'), ('Per 90 Minutes', 'xG'), ('Per 90 Minutes', 'xG+xAG'), ('Progression', 'PrgC'), ('Progression', 'PrgP').\n",
      "\n",
      "The following columns are missing in [['INT-World Cup' '1934']]: .\n",
      "\n",
      "The columns of the dataframe with the most columns will be used.\n",
      "  warnings.warn(\n",
      "c:\\Users\\Sydney\\AppData\\Local\\Programs\\Python\\Python312\\Lib\\site-packages\\soccerdata\\fbref.py:1221: UserWarning: Different columns found for [['INT-World Cup' '2018']] and [['INT-World Cup' '1938']].\n",
      "\n",
      "The following columns are missing in [['INT-World Cup' '2018']]: ('Expected', 'npxG'), ('Expected', 'npxG+xAG'), ('Expected', 'xAG'), ('Expected', 'xG'), ('Per 90 Minutes', 'npxG'), ('Per 90 Minutes', 'npxG+xAG'), ('Per 90 Minutes', 'xAG'), ('Per 90 Minutes', 'xG'), ('Per 90 Minutes', 'xG+xAG'), ('Progression', 'PrgC'), ('Progression', 'PrgP').\n",
      "\n",
      "The following columns are missing in [['INT-World Cup' '1938']]: .\n",
      "\n",
      "The columns of the dataframe with the most columns will be used.\n",
      "  warnings.warn(\n",
      "c:\\Users\\Sydney\\AppData\\Local\\Programs\\Python\\Python312\\Lib\\site-packages\\soccerdata\\fbref.py:1221: UserWarning: Different columns found for [['INT-World Cup' '2018']] and [['INT-World Cup' '1950']].\n",
      "\n",
      "The following columns are missing in [['INT-World Cup' '2018']]: ('Expected', 'npxG'), ('Expected', 'npxG+xAG'), ('Expected', 'xAG'), ('Expected', 'xG'), ('Per 90 Minutes', 'npxG'), ('Per 90 Minutes', 'npxG+xAG'), ('Per 90 Minutes', 'xAG'), ('Per 90 Minutes', 'xG'), ('Per 90 Minutes', 'xG+xAG'), ('Progression', 'PrgC'), ('Progression', 'PrgP').\n",
      "\n",
      "The following columns are missing in [['INT-World Cup' '1950']]: .\n",
      "\n",
      "The columns of the dataframe with the most columns will be used.\n",
      "  warnings.warn(\n",
      "c:\\Users\\Sydney\\AppData\\Local\\Programs\\Python\\Python312\\Lib\\site-packages\\soccerdata\\fbref.py:1221: UserWarning: Different columns found for [['INT-World Cup' '2018']] and [['INT-World Cup' '1954']].\n",
      "\n",
      "The following columns are missing in [['INT-World Cup' '2018']]: ('Expected', 'npxG'), ('Expected', 'npxG+xAG'), ('Expected', 'xAG'), ('Expected', 'xG'), ('Per 90 Minutes', 'npxG'), ('Per 90 Minutes', 'npxG+xAG'), ('Per 90 Minutes', 'xAG'), ('Per 90 Minutes', 'xG'), ('Per 90 Minutes', 'xG+xAG'), ('Progression', 'PrgC'), ('Progression', 'PrgP').\n",
      "\n",
      "The following columns are missing in [['INT-World Cup' '1954']]: .\n",
      "\n",
      "The columns of the dataframe with the most columns will be used.\n",
      "  warnings.warn(\n",
      "c:\\Users\\Sydney\\AppData\\Local\\Programs\\Python\\Python312\\Lib\\site-packages\\soccerdata\\fbref.py:1221: UserWarning: Different columns found for [['INT-World Cup' '2018']] and [['INT-World Cup' '1958']].\n",
      "\n",
      "The following columns are missing in [['INT-World Cup' '2018']]: ('Expected', 'npxG'), ('Expected', 'npxG+xAG'), ('Expected', 'xAG'), ('Expected', 'xG'), ('Per 90 Minutes', 'npxG'), ('Per 90 Minutes', 'npxG+xAG'), ('Per 90 Minutes', 'xAG'), ('Per 90 Minutes', 'xG'), ('Per 90 Minutes', 'xG+xAG'), ('Progression', 'PrgC'), ('Progression', 'PrgP').\n",
      "\n",
      "The following columns are missing in [['INT-World Cup' '1958']]: .\n",
      "\n",
      "The columns of the dataframe with the most columns will be used.\n",
      "  warnings.warn(\n",
      "c:\\Users\\Sydney\\AppData\\Local\\Programs\\Python\\Python312\\Lib\\site-packages\\soccerdata\\fbref.py:1221: UserWarning: Different columns found for [['INT-World Cup' '2018']] and [['INT-World Cup' '1962']].\n",
      "\n",
      "The following columns are missing in [['INT-World Cup' '2018']]: ('Expected', 'npxG'), ('Expected', 'npxG+xAG'), ('Expected', 'xAG'), ('Expected', 'xG'), ('Per 90 Minutes', 'npxG'), ('Per 90 Minutes', 'npxG+xAG'), ('Per 90 Minutes', 'xAG'), ('Per 90 Minutes', 'xG'), ('Per 90 Minutes', 'xG+xAG'), ('Progression', 'PrgC'), ('Progression', 'PrgP').\n",
      "\n",
      "The following columns are missing in [['INT-World Cup' '1962']]: .\n",
      "\n",
      "The columns of the dataframe with the most columns will be used.\n",
      "  warnings.warn(\n",
      "c:\\Users\\Sydney\\AppData\\Local\\Programs\\Python\\Python312\\Lib\\site-packages\\soccerdata\\fbref.py:1221: UserWarning: Different columns found for [['INT-World Cup' '2018']] and [['INT-World Cup' '1966']].\n",
      "\n",
      "The following columns are missing in [['INT-World Cup' '2018']]: ('Expected', 'npxG'), ('Expected', 'npxG+xAG'), ('Expected', 'xAG'), ('Expected', 'xG'), ('Per 90 Minutes', 'npxG'), ('Per 90 Minutes', 'npxG+xAG'), ('Per 90 Minutes', 'xAG'), ('Per 90 Minutes', 'xG'), ('Per 90 Minutes', 'xG+xAG'), ('Progression', 'PrgC'), ('Progression', 'PrgP').\n",
      "\n",
      "The following columns are missing in [['INT-World Cup' '1966']]: .\n",
      "\n",
      "The columns of the dataframe with the most columns will be used.\n",
      "  warnings.warn(\n",
      "c:\\Users\\Sydney\\AppData\\Local\\Programs\\Python\\Python312\\Lib\\site-packages\\soccerdata\\fbref.py:1221: UserWarning: Different columns found for [['INT-World Cup' '2018']] and [['INT-World Cup' '1970']].\n",
      "\n",
      "The following columns are missing in [['INT-World Cup' '2018']]: ('Expected', 'npxG'), ('Expected', 'npxG+xAG'), ('Expected', 'xAG'), ('Expected', 'xG'), ('Per 90 Minutes', 'npxG'), ('Per 90 Minutes', 'npxG+xAG'), ('Per 90 Minutes', 'xAG'), ('Per 90 Minutes', 'xG'), ('Per 90 Minutes', 'xG+xAG'), ('Progression', 'PrgC'), ('Progression', 'PrgP').\n",
      "\n",
      "The following columns are missing in [['INT-World Cup' '1970']]: .\n",
      "\n",
      "The columns of the dataframe with the most columns will be used.\n",
      "  warnings.warn(\n",
      "c:\\Users\\Sydney\\AppData\\Local\\Programs\\Python\\Python312\\Lib\\site-packages\\soccerdata\\fbref.py:1221: UserWarning: Different columns found for [['INT-World Cup' '2018']] and [['INT-World Cup' '1974']].\n",
      "\n",
      "The following columns are missing in [['INT-World Cup' '2018']]: ('Expected', 'npxG'), ('Expected', 'npxG+xAG'), ('Expected', 'xAG'), ('Expected', 'xG'), ('Per 90 Minutes', 'npxG'), ('Per 90 Minutes', 'npxG+xAG'), ('Per 90 Minutes', 'xAG'), ('Per 90 Minutes', 'xG'), ('Per 90 Minutes', 'xG+xAG'), ('Progression', 'PrgC'), ('Progression', 'PrgP').\n",
      "\n",
      "The following columns are missing in [['INT-World Cup' '1974']]: .\n",
      "\n",
      "The columns of the dataframe with the most columns will be used.\n",
      "  warnings.warn(\n",
      "c:\\Users\\Sydney\\AppData\\Local\\Programs\\Python\\Python312\\Lib\\site-packages\\soccerdata\\fbref.py:1221: UserWarning: Different columns found for [['INT-World Cup' '2018']] and [['INT-World Cup' '1978']].\n",
      "\n",
      "The following columns are missing in [['INT-World Cup' '2018']]: ('Expected', 'npxG'), ('Expected', 'npxG+xAG'), ('Expected', 'xAG'), ('Expected', 'xG'), ('Per 90 Minutes', 'npxG'), ('Per 90 Minutes', 'npxG+xAG'), ('Per 90 Minutes', 'xAG'), ('Per 90 Minutes', 'xG'), ('Per 90 Minutes', 'xG+xAG'), ('Progression', 'PrgC'), ('Progression', 'PrgP').\n",
      "\n",
      "The following columns are missing in [['INT-World Cup' '1978']]: .\n",
      "\n",
      "The columns of the dataframe with the most columns will be used.\n",
      "  warnings.warn(\n",
      "c:\\Users\\Sydney\\AppData\\Local\\Programs\\Python\\Python312\\Lib\\site-packages\\soccerdata\\fbref.py:1221: UserWarning: Different columns found for [['INT-World Cup' '2018']] and [['INT-World Cup' '1982']].\n",
      "\n",
      "The following columns are missing in [['INT-World Cup' '2018']]: ('Expected', 'npxG'), ('Expected', 'npxG+xAG'), ('Expected', 'xAG'), ('Expected', 'xG'), ('Per 90 Minutes', 'npxG'), ('Per 90 Minutes', 'npxG+xAG'), ('Per 90 Minutes', 'xAG'), ('Per 90 Minutes', 'xG'), ('Per 90 Minutes', 'xG+xAG'), ('Progression', 'PrgC'), ('Progression', 'PrgP').\n",
      "\n",
      "The following columns are missing in [['INT-World Cup' '1982']]: .\n",
      "\n",
      "The columns of the dataframe with the most columns will be used.\n",
      "  warnings.warn(\n",
      "c:\\Users\\Sydney\\AppData\\Local\\Programs\\Python\\Python312\\Lib\\site-packages\\soccerdata\\fbref.py:1221: UserWarning: Different columns found for [['INT-World Cup' '2018']] and [['INT-World Cup' '1986']].\n",
      "\n",
      "The following columns are missing in [['INT-World Cup' '2018']]: ('Expected', 'npxG'), ('Expected', 'npxG+xAG'), ('Expected', 'xAG'), ('Expected', 'xG'), ('Per 90 Minutes', 'npxG'), ('Per 90 Minutes', 'npxG+xAG'), ('Per 90 Minutes', 'xAG'), ('Per 90 Minutes', 'xG'), ('Per 90 Minutes', 'xG+xAG'), ('Progression', 'PrgC'), ('Progression', 'PrgP').\n",
      "\n",
      "The following columns are missing in [['INT-World Cup' '1986']]: .\n",
      "\n",
      "The columns of the dataframe with the most columns will be used.\n",
      "  warnings.warn(\n",
      "c:\\Users\\Sydney\\AppData\\Local\\Programs\\Python\\Python312\\Lib\\site-packages\\soccerdata\\fbref.py:1221: UserWarning: Different columns found for [['INT-World Cup' '2018']] and [['INT-World Cup' '1990']].\n",
      "\n",
      "The following columns are missing in [['INT-World Cup' '2018']]: ('Expected', 'npxG'), ('Expected', 'npxG+xAG'), ('Expected', 'xAG'), ('Expected', 'xG'), ('Per 90 Minutes', 'npxG'), ('Per 90 Minutes', 'npxG+xAG'), ('Per 90 Minutes', 'xAG'), ('Per 90 Minutes', 'xG'), ('Per 90 Minutes', 'xG+xAG'), ('Progression', 'PrgC'), ('Progression', 'PrgP').\n",
      "\n",
      "The following columns are missing in [['INT-World Cup' '1990']]: .\n",
      "\n",
      "The columns of the dataframe with the most columns will be used.\n",
      "  warnings.warn(\n",
      "c:\\Users\\Sydney\\AppData\\Local\\Programs\\Python\\Python312\\Lib\\site-packages\\soccerdata\\fbref.py:1221: UserWarning: Different columns found for [['INT-World Cup' '2018']] and [['INT-World Cup' '1994']].\n",
      "\n",
      "The following columns are missing in [['INT-World Cup' '2018']]: ('Expected', 'npxG'), ('Expected', 'npxG+xAG'), ('Expected', 'xAG'), ('Expected', 'xG'), ('Per 90 Minutes', 'npxG'), ('Per 90 Minutes', 'npxG+xAG'), ('Per 90 Minutes', 'xAG'), ('Per 90 Minutes', 'xG'), ('Per 90 Minutes', 'xG+xAG'), ('Progression', 'PrgC'), ('Progression', 'PrgP').\n",
      "\n",
      "The following columns are missing in [['INT-World Cup' '1994']]: .\n",
      "\n",
      "The columns of the dataframe with the most columns will be used.\n",
      "  warnings.warn(\n",
      "c:\\Users\\Sydney\\AppData\\Local\\Programs\\Python\\Python312\\Lib\\site-packages\\soccerdata\\fbref.py:1221: UserWarning: Different columns found for [['INT-World Cup' '2018']] and [['INT-World Cup' '1998']].\n",
      "\n",
      "The following columns are missing in [['INT-World Cup' '2018']]: ('Expected', 'npxG'), ('Expected', 'npxG+xAG'), ('Expected', 'xAG'), ('Expected', 'xG'), ('Per 90 Minutes', 'npxG'), ('Per 90 Minutes', 'npxG+xAG'), ('Per 90 Minutes', 'xAG'), ('Per 90 Minutes', 'xG'), ('Per 90 Minutes', 'xG+xAG'), ('Progression', 'PrgC'), ('Progression', 'PrgP').\n",
      "\n",
      "The following columns are missing in [['INT-World Cup' '1998']]: .\n",
      "\n",
      "The columns of the dataframe with the most columns will be used.\n",
      "  warnings.warn(\n",
      "c:\\Users\\Sydney\\AppData\\Local\\Programs\\Python\\Python312\\Lib\\site-packages\\soccerdata\\fbref.py:1221: UserWarning: Different columns found for [['INT-World Cup' '2018']] and [['INT-World Cup' '2002']].\n",
      "\n",
      "The following columns are missing in [['INT-World Cup' '2018']]: ('Expected', 'npxG'), ('Expected', 'npxG+xAG'), ('Expected', 'xAG'), ('Expected', 'xG'), ('Per 90 Minutes', 'npxG'), ('Per 90 Minutes', 'npxG+xAG'), ('Per 90 Minutes', 'xAG'), ('Per 90 Minutes', 'xG'), ('Per 90 Minutes', 'xG+xAG'), ('Progression', 'PrgC'), ('Progression', 'PrgP').\n",
      "\n",
      "The following columns are missing in [['INT-World Cup' '2002']]: .\n",
      "\n",
      "The columns of the dataframe with the most columns will be used.\n",
      "  warnings.warn(\n",
      "c:\\Users\\Sydney\\AppData\\Local\\Programs\\Python\\Python312\\Lib\\site-packages\\soccerdata\\fbref.py:1221: UserWarning: Different columns found for [['INT-World Cup' '2018']] and [['INT-World Cup' '2006']].\n",
      "\n",
      "The following columns are missing in [['INT-World Cup' '2018']]: ('Expected', 'npxG'), ('Expected', 'npxG+xAG'), ('Expected', 'xAG'), ('Expected', 'xG'), ('Per 90 Minutes', 'npxG'), ('Per 90 Minutes', 'npxG+xAG'), ('Per 90 Minutes', 'xAG'), ('Per 90 Minutes', 'xG'), ('Per 90 Minutes', 'xG+xAG'), ('Progression', 'PrgC'), ('Progression', 'PrgP').\n",
      "\n",
      "The following columns are missing in [['INT-World Cup' '2006']]: .\n",
      "\n",
      "The columns of the dataframe with the most columns will be used.\n",
      "  warnings.warn(\n",
      "c:\\Users\\Sydney\\AppData\\Local\\Programs\\Python\\Python312\\Lib\\site-packages\\soccerdata\\fbref.py:1221: UserWarning: Different columns found for [['INT-World Cup' '2018']] and [['INT-World Cup' '2010']].\n",
      "\n",
      "The following columns are missing in [['INT-World Cup' '2018']]: ('Expected', 'npxG'), ('Expected', 'npxG+xAG'), ('Expected', 'xAG'), ('Expected', 'xG'), ('Per 90 Minutes', 'npxG'), ('Per 90 Minutes', 'npxG+xAG'), ('Per 90 Minutes', 'xAG'), ('Per 90 Minutes', 'xG'), ('Per 90 Minutes', 'xG+xAG'), ('Progression', 'PrgC'), ('Progression', 'PrgP').\n",
      "\n",
      "The following columns are missing in [['INT-World Cup' '2010']]: .\n",
      "\n",
      "The columns of the dataframe with the most columns will be used.\n",
      "  warnings.warn(\n",
      "c:\\Users\\Sydney\\AppData\\Local\\Programs\\Python\\Python312\\Lib\\site-packages\\soccerdata\\fbref.py:1221: UserWarning: Different columns found for [['INT-World Cup' '2018']] and [['INT-World Cup' '2014']].\n",
      "\n",
      "The following columns are missing in [['INT-World Cup' '2018']]: ('Expected', 'npxG'), ('Expected', 'npxG+xAG'), ('Expected', 'xAG'), ('Expected', 'xG'), ('Per 90 Minutes', 'npxG'), ('Per 90 Minutes', 'npxG+xAG'), ('Per 90 Minutes', 'xAG'), ('Per 90 Minutes', 'xG'), ('Per 90 Minutes', 'xG+xAG'), ('Progression', 'PrgC'), ('Progression', 'PrgP').\n",
      "\n",
      "The following columns are missing in [['INT-World Cup' '2014']]: .\n",
      "\n",
      "The columns of the dataframe with the most columns will be used.\n",
      "  warnings.warn(\n",
      "c:\\Users\\Sydney\\AppData\\Local\\Programs\\Python\\Python312\\Lib\\site-packages\\soccerdata\\fbref.py:1274: FutureWarning: The behavior of DataFrame concatenation with empty or all-NA entries is deprecated. In a future version, this will no longer exclude empty or all-NA columns when determining the result dtypes. To retain the old behavior, exclude the relevant entries before the concat operation.\n",
      "  return pd.concat(dfs)\n"
     ]
    }
   ],
   "source": [
    "fbref = FBref(leagues=[\"INT-World Cup\"], seasons=[\"1930\",\"1934\",\"1938\",\"1950\",\"1954\",\"1958\",\"1962\",\"1966\",\"1970\",\"1974\",\"1978\",\"1982\",\"1986\",\"1990\",\"1994\",\"1998\",\"2002\",\"2006\",\"2010\",\"2014\",\"2018\", \"2022\"])\n",
    "team_stats = fbref.read_team_season_stats(stat_type='standard')\n",
    "team_stats.to_csv('data/FIFA_World_Cup.csv')"
   ]
  },
  {
   "cell_type": "code",
   "execution_count": null,
   "metadata": {},
   "outputs": [],
   "source": []
  }
 ],
 "metadata": {
  "kernelspec": {
   "display_name": "Python 3",
   "language": "python",
   "name": "python3"
  },
  "language_info": {
   "codemirror_mode": {
    "name": "ipython",
    "version": 3
   },
   "file_extension": ".py",
   "mimetype": "text/x-python",
   "name": "python",
   "nbconvert_exporter": "python",
   "pygments_lexer": "ipython3",
   "version": "3.12.3"
  }
 },
 "nbformat": 4,
 "nbformat_minor": 4
}
